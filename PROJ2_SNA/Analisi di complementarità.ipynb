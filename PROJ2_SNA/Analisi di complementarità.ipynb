{
 "cells": [
  {
   "cell_type": "markdown",
   "metadata": {},
   "source": [
    "# 🎯 Dashboard Analisi Complementarità Calciatori\n",
    "# \n",
    "# Questo notebook analizza la complementarità tra calciatori basandosi su diversi fattori."
   ]
  },
  {
   "cell_type": "code",
   "execution_count": 14,
   "metadata": {},
   "outputs": [],
   "source": [
    "# Prima cella: Importazioni\n",
    "import pandas as pd\n",
    "import numpy as np\n",
    "import plotly.express as px\n",
    "import plotly.graph_objects as go\n",
    "from datetime import datetime"
   ]
  },
  {
   "cell_type": "code",
   "execution_count": 26,
   "metadata": {},
   "outputs": [],
   "source": [
    "# Seconda cella: Funzioni di utilità\n",
    "def calculate_age(birth_date_str):\n",
    "    \"\"\"Calcola l'età da una stringa di data di nascita\"\"\"\n",
    "    if pd.isna(birth_date_str):\n",
    "        return 0\n",
    "    try:\n",
    "        birth_date = datetime.strptime(birth_date_str.split(' ')[0], '%Y-%m-%d')\n",
    "        today = datetime.now()\n",
    "        age = today.year - birth_date.year\n",
    "        if today.month < birth_date.month or (today.month == birth_date.month and today.day < birth_date.day):\n",
    "            age -= 1\n",
    "        return age\n",
    "    except:\n",
    "        return 0\n",
    "\n",
    "def format_currency(value):\n",
    "    \"\"\"Formatta i valori monetari\"\"\"\n",
    "    if pd.isna(value) or value == 0:\n",
    "        return \"N/A\"\n",
    "    if value >= 1000000:\n",
    "        return f\"€{value/1000000:.1f}M\"\n",
    "    elif value >= 1000:\n",
    "        return f\"€{value/1000:.1f}K\"\n",
    "    return f\"€{value:.0f}\"\n",
    "\n",
    "def calculate_bmi(weight_kg, height_m):\n",
    "    \"\"\"Calcola il BMI\"\"\"\n",
    "    if height_m > 0 and weight_kg > 0:\n",
    "        return weight_kg / (height_m ** 2)\n",
    "    return 0"
   ]
  },
  {
   "cell_type": "code",
   "execution_count": 16,
   "metadata": {},
   "outputs": [
    {
     "name": "stdout",
     "output_type": "stream",
     "text": [
      "Numero di giocatori attivi: 12946\n"
     ]
    },
    {
     "data": {
      "text/html": [
       "<div>\n",
       "<style scoped>\n",
       "    .dataframe tbody tr th:only-of-type {\n",
       "        vertical-align: middle;\n",
       "    }\n",
       "\n",
       "    .dataframe tbody tr th {\n",
       "        vertical-align: top;\n",
       "    }\n",
       "\n",
       "    .dataframe thead th {\n",
       "        text-align: right;\n",
       "    }\n",
       "</style>\n",
       "<table border=\"1\" class=\"dataframe\">\n",
       "  <thead>\n",
       "    <tr style=\"text-align: right;\">\n",
       "      <th></th>\n",
       "      <th>player_id</th>\n",
       "      <th>first_name</th>\n",
       "      <th>last_name</th>\n",
       "      <th>name_x</th>\n",
       "      <th>last_season</th>\n",
       "      <th>current_club_id</th>\n",
       "      <th>player_code</th>\n",
       "      <th>country_of_birth</th>\n",
       "      <th>city_of_birth</th>\n",
       "      <th>country_of_citizenship</th>\n",
       "      <th>...</th>\n",
       "      <th>image_url</th>\n",
       "      <th>url</th>\n",
       "      <th>current_club_domestic_competition_id</th>\n",
       "      <th>current_club_name</th>\n",
       "      <th>market_value_in_eur</th>\n",
       "      <th>highest_market_value_in_eur</th>\n",
       "      <th>age</th>\n",
       "      <th>club_id</th>\n",
       "      <th>name_y</th>\n",
       "      <th>domestic_competition_id</th>\n",
       "    </tr>\n",
       "  </thead>\n",
       "  <tbody>\n",
       "    <tr>\n",
       "      <th>0</th>\n",
       "      <td>2857</td>\n",
       "      <td>Eldin</td>\n",
       "      <td>Jakupovic</td>\n",
       "      <td>Eldin Jakupovic</td>\n",
       "      <td>2022</td>\n",
       "      <td>29</td>\n",
       "      <td>eldin-jakupovic</td>\n",
       "      <td>Jugoslawien (SFR)</td>\n",
       "      <td>Kozarac</td>\n",
       "      <td>Switzerland</td>\n",
       "      <td>...</td>\n",
       "      <td>https://img.a.transfermarkt.technology/portrai...</td>\n",
       "      <td>https://www.transfermarkt.co.uk/eldin-jakupovi...</td>\n",
       "      <td>GB1</td>\n",
       "      <td>Everton Football Club</td>\n",
       "      <td>100000.0</td>\n",
       "      <td>1500000.0</td>\n",
       "      <td>40</td>\n",
       "      <td>29</td>\n",
       "      <td>Everton Football Club</td>\n",
       "      <td>GB1</td>\n",
       "    </tr>\n",
       "    <tr>\n",
       "      <th>1</th>\n",
       "      <td>3333</td>\n",
       "      <td>James</td>\n",
       "      <td>Milner</td>\n",
       "      <td>James Milner</td>\n",
       "      <td>2024</td>\n",
       "      <td>1237</td>\n",
       "      <td>james-milner</td>\n",
       "      <td>England</td>\n",
       "      <td>Leeds</td>\n",
       "      <td>England</td>\n",
       "      <td>...</td>\n",
       "      <td>https://img.a.transfermarkt.technology/portrai...</td>\n",
       "      <td>https://www.transfermarkt.co.uk/james-milner/p...</td>\n",
       "      <td>GB1</td>\n",
       "      <td>Brighton and Hove Albion Football Club</td>\n",
       "      <td>1000000.0</td>\n",
       "      <td>21000000.0</td>\n",
       "      <td>38</td>\n",
       "      <td>1237</td>\n",
       "      <td>Brighton and Hove Albion Football Club</td>\n",
       "      <td>GB1</td>\n",
       "    </tr>\n",
       "    <tr>\n",
       "      <th>2</th>\n",
       "      <td>3455</td>\n",
       "      <td>Zlatan</td>\n",
       "      <td>Ibrahimović</td>\n",
       "      <td>Zlatan Ibrahimović</td>\n",
       "      <td>2022</td>\n",
       "      <td>5</td>\n",
       "      <td>zlatan-ibrahimović</td>\n",
       "      <td>Sweden</td>\n",
       "      <td>Malmö</td>\n",
       "      <td>Sweden</td>\n",
       "      <td>...</td>\n",
       "      <td>https://img.a.transfermarkt.technology/portrai...</td>\n",
       "      <td>https://www.transfermarkt.co.uk/zlatan-ibrahim...</td>\n",
       "      <td>IT1</td>\n",
       "      <td>Associazione Calcio Milan</td>\n",
       "      <td>2000000.0</td>\n",
       "      <td>46000000.0</td>\n",
       "      <td>43</td>\n",
       "      <td>5</td>\n",
       "      <td>Associazione Calcio Milan</td>\n",
       "      <td>IT1</td>\n",
       "    </tr>\n",
       "    <tr>\n",
       "      <th>3</th>\n",
       "      <td>4311</td>\n",
       "      <td>Maarten</td>\n",
       "      <td>Stekelenburg</td>\n",
       "      <td>Maarten Stekelenburg</td>\n",
       "      <td>2022</td>\n",
       "      <td>610</td>\n",
       "      <td>maarten-stekelenburg</td>\n",
       "      <td>NaN</td>\n",
       "      <td>Haarlem</td>\n",
       "      <td>NaN</td>\n",
       "      <td>...</td>\n",
       "      <td>https://img.a.transfermarkt.technology/portrai...</td>\n",
       "      <td>https://www.transfermarkt.co.uk/maarten-stekel...</td>\n",
       "      <td>NL1</td>\n",
       "      <td>AFC Ajax Amsterdam</td>\n",
       "      <td>75000.0</td>\n",
       "      <td>11000000.0</td>\n",
       "      <td>42</td>\n",
       "      <td>610</td>\n",
       "      <td>AFC Ajax Amsterdam</td>\n",
       "      <td>NL1</td>\n",
       "    </tr>\n",
       "    <tr>\n",
       "      <th>4</th>\n",
       "      <td>4391</td>\n",
       "      <td>Boy</td>\n",
       "      <td>Waterman</td>\n",
       "      <td>Boy Waterman</td>\n",
       "      <td>2023</td>\n",
       "      <td>383</td>\n",
       "      <td>boy-waterman</td>\n",
       "      <td>Netherlands</td>\n",
       "      <td>Lelystad</td>\n",
       "      <td>Netherlands</td>\n",
       "      <td>...</td>\n",
       "      <td>https://img.a.transfermarkt.technology/portrai...</td>\n",
       "      <td>https://www.transfermarkt.co.uk/boy-waterman/p...</td>\n",
       "      <td>NL1</td>\n",
       "      <td>Eindhovense Voetbalvereniging Philips Sport Ve...</td>\n",
       "      <td>50000.0</td>\n",
       "      <td>3000000.0</td>\n",
       "      <td>40</td>\n",
       "      <td>383</td>\n",
       "      <td>Eindhovense Voetbalvereniging Philips Sport Ve...</td>\n",
       "      <td>NL1</td>\n",
       "    </tr>\n",
       "  </tbody>\n",
       "</table>\n",
       "<p>5 rows × 27 columns</p>\n",
       "</div>"
      ],
      "text/plain": [
       "   player_id first_name     last_name                name_x  last_season  \\\n",
       "0       2857      Eldin     Jakupovic       Eldin Jakupovic         2022   \n",
       "1       3333      James        Milner          James Milner         2024   \n",
       "2       3455     Zlatan   Ibrahimović    Zlatan Ibrahimović         2022   \n",
       "3       4311    Maarten  Stekelenburg  Maarten Stekelenburg         2022   \n",
       "4       4391        Boy      Waterman          Boy Waterman         2023   \n",
       "\n",
       "   current_club_id           player_code   country_of_birth city_of_birth  \\\n",
       "0               29       eldin-jakupovic  Jugoslawien (SFR)       Kozarac   \n",
       "1             1237          james-milner            England         Leeds   \n",
       "2                5    zlatan-ibrahimović             Sweden         Malmö   \n",
       "3              610  maarten-stekelenburg                NaN       Haarlem   \n",
       "4              383          boy-waterman        Netherlands      Lelystad   \n",
       "\n",
       "  country_of_citizenship  ...  \\\n",
       "0            Switzerland  ...   \n",
       "1                England  ...   \n",
       "2                 Sweden  ...   \n",
       "3                    NaN  ...   \n",
       "4            Netherlands  ...   \n",
       "\n",
       "                                           image_url  \\\n",
       "0  https://img.a.transfermarkt.technology/portrai...   \n",
       "1  https://img.a.transfermarkt.technology/portrai...   \n",
       "2  https://img.a.transfermarkt.technology/portrai...   \n",
       "3  https://img.a.transfermarkt.technology/portrai...   \n",
       "4  https://img.a.transfermarkt.technology/portrai...   \n",
       "\n",
       "                                                 url  \\\n",
       "0  https://www.transfermarkt.co.uk/eldin-jakupovi...   \n",
       "1  https://www.transfermarkt.co.uk/james-milner/p...   \n",
       "2  https://www.transfermarkt.co.uk/zlatan-ibrahim...   \n",
       "3  https://www.transfermarkt.co.uk/maarten-stekel...   \n",
       "4  https://www.transfermarkt.co.uk/boy-waterman/p...   \n",
       "\n",
       "  current_club_domestic_competition_id  \\\n",
       "0                                  GB1   \n",
       "1                                  GB1   \n",
       "2                                  IT1   \n",
       "3                                  NL1   \n",
       "4                                  NL1   \n",
       "\n",
       "                                   current_club_name  market_value_in_eur  \\\n",
       "0                              Everton Football Club             100000.0   \n",
       "1             Brighton and Hove Albion Football Club            1000000.0   \n",
       "2                          Associazione Calcio Milan            2000000.0   \n",
       "3                                 AFC Ajax Amsterdam              75000.0   \n",
       "4  Eindhovense Voetbalvereniging Philips Sport Ve...              50000.0   \n",
       "\n",
       "  highest_market_value_in_eur age club_id  \\\n",
       "0                   1500000.0  40      29   \n",
       "1                  21000000.0  38    1237   \n",
       "2                  46000000.0  43       5   \n",
       "3                  11000000.0  42     610   \n",
       "4                   3000000.0  40     383   \n",
       "\n",
       "                                              name_y domestic_competition_id  \n",
       "0                              Everton Football Club                     GB1  \n",
       "1             Brighton and Hove Albion Football Club                     GB1  \n",
       "2                          Associazione Calcio Milan                     IT1  \n",
       "3                                 AFC Ajax Amsterdam                     NL1  \n",
       "4  Eindhovense Voetbalvereniging Philips Sport Ve...                     NL1  \n",
       "\n",
       "[5 rows x 27 columns]"
      ]
     },
     "execution_count": 16,
     "metadata": {},
     "output_type": "execute_result"
    }
   ],
   "source": [
    "# Terza cella: Caricamento dati\n",
    "# Caricamento dati\n",
    "players_df = pd.read_csv('../Datasets/SNA/players.csv')\n",
    "clubs_df = pd.read_csv('../Datasets/SNA/clubs.csv')\n",
    "transfers_df = pd.read_csv('../Datasets/SNA/transfers.csv')\n",
    "\n",
    "# Pulizia e preparazione\n",
    "players_df['age'] = players_df['date_of_birth'].apply(calculate_age)\n",
    "\n",
    "# Filtro giocatori attivi (ultimi 2 anni)\n",
    "active_players = players_df[players_df['last_season'] >= 2022].copy()\n",
    "\n",
    "# Aggiungi informazioni sul club\n",
    "active_players = active_players.merge(\n",
    "    clubs_df[['club_id', 'name', 'domestic_competition_id']],\n",
    "    left_on='current_club_id',\n",
    "    right_on='club_id',\n",
    "    how='left'\n",
    ")\n",
    "\n",
    "# Mostra le prime righe dei dati\n",
    "print(\"Numero di giocatori attivi:\", len(active_players))\n",
    "active_players.head()"
   ]
  },
  {
   "cell_type": "code",
   "execution_count": 17,
   "metadata": {},
   "outputs": [],
   "source": [
    "# Funzione di compatibilità migliorata\n",
    "def calculate_player_compatibility(player1, player2):\n",
    "    \"\"\"\n",
    "    Calcola il punteggio di compatibilità tra due giocatori con criteri più stringenti\n",
    "    \"\"\"\n",
    "    score = 0\n",
    "    reasons = []\n",
    "    \n",
    "    # 1. Complementarità Posizionale (0-35 punti)\n",
    "    position_complementarity = {\n",
    "        'Centre-Forward': ['Attacking Midfield', 'Central Midfield', 'Left Winger', 'Right Winger'],\n",
    "        'Attacking Midfield': ['Centre-Forward', 'Central Midfield', 'Defensive Midfield'],\n",
    "        'Central Midfield': ['Centre-Forward', 'Defensive Midfield', 'Centre-Back'],\n",
    "        'Defensive Midfield': ['Centre-Back', 'Central Midfield', 'Attacking Midfield'],\n",
    "        'Left Winger': ['Centre-Forward', 'Left-Back', 'Central Midfield'],\n",
    "        'Right Winger': ['Centre-Forward', 'Right-Back', 'Central Midfield'],\n",
    "        'Left-Back': ['Left Winger', 'Centre-Back', 'Defensive Midfield'],\n",
    "        'Right-Back': ['Right Winger', 'Centre-Back', 'Defensive Midfield'],\n",
    "        'Centre-Back': ['Defensive Midfield', 'Right-Back', 'Left-Back']\n",
    "    }\n",
    "    \n",
    "    if player1['sub_position'] in position_complementarity and player2['sub_position'] in position_complementarity[player1['sub_position']]:\n",
    "        score += 35\n",
    "        reasons.append(f\"Posizioni altamente complementari: {player1['sub_position']} - {player2['sub_position']}\")\n",
    "    \n",
    "    # 2. Piede preferito (0-15 punti)\n",
    "    if player1['foot'] and player2['foot'] and player1['foot'] != player2['foot']:\n",
    "        score += 15\n",
    "        reasons.append(f\"Complementarità piedi: {player1['foot']} - {player2['foot']}\")\n",
    "    \n",
    "    # 3. Età e Esperienza (0-15 punti)\n",
    "    age_diff = abs(player1['age'] - player2['age'])\n",
    "    if 2 <= age_diff <= 4:\n",
    "        score += 15\n",
    "        reasons.append(f\"Mix ideale esperienza-gioventù: {age_diff} anni di differenza\")\n",
    "    \n",
    "    # 4. Altezza complementare (0-10 punti)\n",
    "    if player1['height_in_cm'] and player2['height_in_cm']:\n",
    "        height_diff = abs(player1['height_in_cm'] - player2['height_in_cm'])\n",
    "        if 5 <= height_diff <= 15:\n",
    "            score += 10\n",
    "            reasons.append(\"Complementarità fisica\")\n",
    "    \n",
    "    # 5. Valore di mercato bilanciato (0-15 punti)\n",
    "    if player1['market_value_in_eur'] > 0 and player2['market_value_in_eur'] > 0:\n",
    "        market_value_ratio = min(player1['market_value_in_eur'], player2['market_value_in_eur']) / max(player1['market_value_in_eur'], player2['market_value_in_eur'])\n",
    "        if market_value_ratio > 0.3:\n",
    "            score += 15\n",
    "            reasons.append(\"Valori di mercato ben bilanciati\")\n",
    "    \n",
    "    # 6. Nazionalità diverse ma stesso campionato (0-10 punti)\n",
    "    if (player1['country_of_citizenship'] != player2['country_of_citizenship'] and \n",
    "        player1['current_club_domestic_competition_id'] == player2['current_club_domestic_competition_id']):\n",
    "        score += 10\n",
    "        reasons.append(\"Diversità culturale nello stesso campionato\")\n",
    "    \n",
    "    return score, reasons"
   ]
  },
  {
   "cell_type": "code",
   "execution_count": 29,
   "metadata": {},
   "outputs": [
    {
     "name": "stdout",
     "output_type": "stream",
     "text": [
      "Alcuni giocatori disponibili nel dataset:\n",
      "['James Abankwah', 'Ondrej Duda', 'Brent Vugts', 'Kevin Kampl', 'Bas Dost', 'Can Uzun', 'Colin Dagba', 'Abde Ezzalzouli', 'Andres Sfait', 'Cyle Larin']\n",
      "\n",
      "Top 5 giocatori più compatibili con Matteo Darmian:\n",
      "\n",
      "1. Pablo Marí (Score: 100/100)\n",
      "   Posizione: Defender\n",
      "   Età: 31\n",
      "   Valore di mercato: €3.5M\n",
      "   Ragioni della compatibilità:\n",
      "   - Posizioni altamente complementari: Right-Back - Centre-Back\n",
      "   - Complementarità piedi: right - left\n",
      "   - Mix ideale esperienza-gioventù: 4 anni di differenza\n",
      "   - Complementarità fisica\n",
      "   - Valori di mercato ben bilanciati\n",
      "   - Diversità culturale nello stesso campionato\n",
      "\n",
      "2. Junior Messias (Score: 100/100)\n",
      "   Posizione: Attack\n",
      "   Età: 33\n",
      "   Valore di mercato: €2.0M\n",
      "   Ragioni della compatibilità:\n",
      "   - Posizioni altamente complementari: Right-Back - Right Winger\n",
      "   - Complementarità piedi: right - left\n",
      "   - Mix ideale esperienza-gioventù: 2 anni di differenza\n",
      "   - Complementarità fisica\n",
      "   - Valori di mercato ben bilanciati\n",
      "   - Diversità culturale nello stesso campionato\n",
      "\n",
      "3. Pablo Sarabia (Score: 90/100)\n",
      "   Posizione: Attack\n",
      "   Età: 32\n",
      "   Valore di mercato: €7.0M\n",
      "   Ragioni della compatibilità:\n",
      "   - Posizioni altamente complementari: Right-Back - Right Winger\n",
      "   - Complementarità piedi: right - left\n",
      "   - Mix ideale esperienza-gioventù: 3 anni di differenza\n",
      "   - Complementarità fisica\n",
      "   - Valori di mercato ben bilanciati\n",
      "\n",
      "4. Sead Kolasinac (Score: 90/100)\n",
      "   Posizione: Defender\n",
      "   Età: 31\n",
      "   Valore di mercato: €10.0M\n",
      "   Ragioni della compatibilità:\n",
      "   - Posizioni altamente complementari: Right-Back - Centre-Back\n",
      "   - Complementarità piedi: right - left\n",
      "   - Mix ideale esperienza-gioventù: 4 anni di differenza\n",
      "   - Valori di mercato ben bilanciati\n",
      "   - Diversità culturale nello stesso campionato\n",
      "\n",
      "5. nan Suso (Score: 90/100)\n",
      "   Posizione: Attack\n",
      "   Età: 31\n",
      "   Valore di mercato: €3.0M\n",
      "   Ragioni della compatibilità:\n",
      "   - Posizioni altamente complementari: Right-Back - Right Winger\n",
      "   - Complementarità piedi: right - left\n",
      "   - Mix ideale esperienza-gioventù: 4 anni di differenza\n",
      "   - Complementarità fisica\n",
      "   - Valori di mercato ben bilanciati\n"
     ]
    }
   ],
   "source": [
    "# Quinta cella: Analisi di un giocatore specifico\n",
    "# Mostra alcuni giocatori disponibili nel dataset\n",
    "print(\"Alcuni giocatori disponibili nel dataset:\")\n",
    "sample_players = active_players.apply(lambda x: f\"{x['first_name']} {x['last_name']}\", axis=1).sample(10)\n",
    "print(sample_players.tolist())\n",
    "\n",
    "# Seleziona un giocatore di esempio\n",
    "player_full_name = \"Matteo Darmian\" \n",
    "player = active_players[\n",
    "    (active_players['first_name'] + \" \" + active_players['last_name']) == player_full_name\n",
    "].iloc[0]\n",
    "\n",
    "# Trova i giocatori compatibili\n",
    "compatibilities = []\n",
    "for _, potential_match in active_players.iterrows():\n",
    "    potential_match_name = f\"{potential_match['first_name']} {potential_match['last_name']}\"\n",
    "    if potential_match_name != player_full_name:\n",
    "        score, reasons = calculate_player_compatibility(player, potential_match)\n",
    "        compatibilities.append({\n",
    "            'name': potential_match_name,\n",
    "            'score': score,\n",
    "            'reasons': reasons,\n",
    "            'position': potential_match['position'],\n",
    "            'market_value': potential_match['market_value_in_eur'],\n",
    "            'age': potential_match['age']\n",
    "        })\n",
    "\n",
    "# Ordina per punteggio\n",
    "compatibilities.sort(key=lambda x: x['score'], reverse=True)\n",
    "\n",
    "# Mostra i top 5 giocatori più compatibili\n",
    "print(f\"\\nTop 5 giocatori più compatibili con {player_full_name}:\")\n",
    "for i, comp in enumerate(compatibilities[:5]):\n",
    "    print(f\"\\n{i+1}. {comp['name']} (Score: {comp['score']}/100)\")\n",
    "    print(f\"   Posizione: {comp['position']}\")\n",
    "    print(f\"   Età: {comp['age']}\")\n",
    "    print(f\"   Valore di mercato: {format_currency(comp['market_value'])}\")\n",
    "    print(\"   Ragioni della compatibilità:\")\n",
    "    for reason in comp['reasons']:\n",
    "        print(f\"   - {reason}\")"
   ]
  },
  {
   "cell_type": "code",
   "execution_count": 32,
   "metadata": {},
   "outputs": [
    {
     "name": "stdout",
     "output_type": "stream",
     "text": [
      "\n",
      "ANALISI DETTAGLIATA COMPATIBILITÀ PER Matteo Darmian\n",
      "Posizione: Defender (Right-Back)\n",
      "Età: 35 anni\n",
      "Valore di mercato: €4.0M\n",
      "\n",
      "TOP 5 GIOCATORI COMPATIBILI:\n",
      "\n",
      "1. Pablo Marí - Score: 100/100\n",
      "   ==================================================\n",
      "   Posizione: Defender\n",
      "   Età: 31 anni\n",
      "   Valore di mercato: €3.5M\n",
      "   Fattori di compatibilità:\n",
      "   • Posizioni altamente complementari: Right-Back - Centre-Back\n",
      "   • Complementarità piedi: right - left\n",
      "   • Mix ideale esperienza-gioventù: 4 anni di differenza\n",
      "   • Complementarità fisica\n",
      "   • Valori di mercato ben bilanciati\n",
      "   • Diversità culturale nello stesso campionato\n",
      "\n",
      "2. Junior Messias - Score: 100/100\n",
      "   ==================================================\n",
      "   Posizione: Attack\n",
      "   Età: 33 anni\n",
      "   Valore di mercato: €2.0M\n",
      "   Fattori di compatibilità:\n",
      "   • Posizioni altamente complementari: Right-Back - Right Winger\n",
      "   • Complementarità piedi: right - left\n",
      "   • Mix ideale esperienza-gioventù: 2 anni di differenza\n",
      "   • Complementarità fisica\n",
      "   • Valori di mercato ben bilanciati\n",
      "   • Diversità culturale nello stesso campionato\n",
      "\n",
      "3. Pablo Sarabia - Score: 90/100\n",
      "   ==================================================\n",
      "   Posizione: Attack\n",
      "   Età: 32 anni\n",
      "   Valore di mercato: €7.0M\n",
      "   Fattori di compatibilità:\n",
      "   • Posizioni altamente complementari: Right-Back - Right Winger\n",
      "   • Complementarità piedi: right - left\n",
      "   • Mix ideale esperienza-gioventù: 3 anni di differenza\n",
      "   • Complementarità fisica\n",
      "   • Valori di mercato ben bilanciati\n",
      "\n",
      "4. Sead Kolasinac - Score: 90/100\n",
      "   ==================================================\n",
      "   Posizione: Defender\n",
      "   Età: 31 anni\n",
      "   Valore di mercato: €10.0M\n",
      "   Fattori di compatibilità:\n",
      "   • Posizioni altamente complementari: Right-Back - Centre-Back\n",
      "   • Complementarità piedi: right - left\n",
      "   • Mix ideale esperienza-gioventù: 4 anni di differenza\n",
      "   • Valori di mercato ben bilanciati\n",
      "   • Diversità culturale nello stesso campionato\n",
      "\n",
      "5. nan Suso - Score: 90/100\n",
      "   ==================================================\n",
      "   Posizione: Attack\n",
      "   Età: 31 anni\n",
      "   Valore di mercato: €3.0M\n",
      "   Fattori di compatibilità:\n",
      "   • Posizioni altamente complementari: Right-Back - Right Winger\n",
      "   • Complementarità piedi: right - left\n",
      "   • Mix ideale esperienza-gioventù: 4 anni di differenza\n",
      "   • Complementarità fisica\n",
      "   • Valori di mercato ben bilanciati\n"
     ]
    },
    {
     "data": {
      "application/vnd.plotly.v1+json": {
       "config": {
        "plotlyServerURL": "https://plot.ly"
       },
       "data": [
        {
         "fill": "toself",
         "fillcolor": "rgba(255, 107, 107, 0.8)",
         "hoverinfo": "text",
         "hovertext": [
          "<b>Compatibilità Posizionale:</b> 20/20<br>(Defender - Defender)",
          "<b>Complementarità Piede:</b> 20/20<br>(N/A - right)",
          "<b>Mix Esperienza:</b> 20/20<br>Differenza età: 4 anni",
          "<b>Compatibilità Fisica:</b> 5/20<br>Differenza altezza: 183.0cm<br>Differenza peso: 0kg<br>Differenza BMI: 0.0",
          "<b>Equilibrio Economico:</b> 20/20<br>Ratio valori: 0.88"
         ],
         "line": {
          "color": "rgba(255, 107, 107, 0.8)"
         },
         "name": "Pablo Marí",
         "r": [
          20,
          20,
          20,
          5,
          20
         ],
         "theta": [
          "Compatibilità Posizionale",
          "Complementarità Piede",
          "Mix Esperienza",
          "Compatibilità Fisica",
          "Equilibrio Economico"
         ],
         "type": "scatterpolar"
        },
        {
         "fill": "toself",
         "fillcolor": "rgba(78, 205, 196, 0.8)",
         "hoverinfo": "text",
         "hovertext": [
          "<b>Compatibilità Posizionale:</b> 20/20<br>(Attack - Defender)",
          "<b>Complementarità Piede:</b> 20/20<br>(N/A - right)",
          "<b>Mix Esperienza:</b> 20/20<br>Differenza età: 2 anni",
          "<b>Compatibilità Fisica:</b> 5/20<br>Differenza altezza: 183.0cm<br>Differenza peso: 0kg<br>Differenza BMI: 0.0",
          "<b>Equilibrio Economico:</b> 15/20<br>Ratio valori: 0.50"
         ],
         "line": {
          "color": "rgba(78, 205, 196, 0.8)"
         },
         "name": "Junior Messias",
         "r": [
          20,
          20,
          20,
          5,
          15
         ],
         "theta": [
          "Compatibilità Posizionale",
          "Complementarità Piede",
          "Mix Esperienza",
          "Compatibilità Fisica",
          "Equilibrio Economico"
         ],
         "type": "scatterpolar"
        },
        {
         "fill": "toself",
         "fillcolor": "rgba(69, 183, 209, 0.8)",
         "hoverinfo": "text",
         "hovertext": [
          "<b>Compatibilità Posizionale:</b> 20/20<br>(Attack - Defender)",
          "<b>Complementarità Piede:</b> 20/20<br>(N/A - right)",
          "<b>Mix Esperienza:</b> 20/20<br>Differenza età: 3 anni",
          "<b>Compatibilità Fisica:</b> 5/20<br>Differenza altezza: 183.0cm<br>Differenza peso: 0kg<br>Differenza BMI: 0.0",
          "<b>Equilibrio Economico:</b> 15/20<br>Ratio valori: 0.57"
         ],
         "line": {
          "color": "rgba(69, 183, 209, 0.8)"
         },
         "name": "Pablo Sarabia",
         "r": [
          20,
          20,
          20,
          5,
          15
         ],
         "theta": [
          "Compatibilità Posizionale",
          "Complementarità Piede",
          "Mix Esperienza",
          "Compatibilità Fisica",
          "Equilibrio Economico"
         ],
         "type": "scatterpolar"
        },
        {
         "fill": "toself",
         "fillcolor": "rgba(150, 206, 180, 0.8)",
         "hoverinfo": "text",
         "hovertext": [
          "<b>Compatibilità Posizionale:</b> 20/20<br>(Defender - Defender)",
          "<b>Complementarità Piede:</b> 20/20<br>(N/A - right)",
          "<b>Mix Esperienza:</b> 20/20<br>Differenza età: 4 anni",
          "<b>Compatibilità Fisica:</b> 5/20<br>Differenza altezza: 183.0cm<br>Differenza peso: 0kg<br>Differenza BMI: 0.0",
          "<b>Equilibrio Economico:</b> 10/20<br>Ratio valori: 0.40"
         ],
         "line": {
          "color": "rgba(150, 206, 180, 0.8)"
         },
         "name": "Sead Kolasinac",
         "r": [
          20,
          20,
          20,
          5,
          10
         ],
         "theta": [
          "Compatibilità Posizionale",
          "Complementarità Piede",
          "Mix Esperienza",
          "Compatibilità Fisica",
          "Equilibrio Economico"
         ],
         "type": "scatterpolar"
        },
        {
         "fill": "toself",
         "fillcolor": "rgba(255, 238, 173, 0.8)",
         "hoverinfo": "text",
         "hovertext": [
          "<b>Compatibilità Posizionale:</b> 20/20<br>(Attack - Defender)",
          "<b>Complementarità Piede:</b> 20/20<br>(N/A - right)",
          "<b>Mix Esperienza:</b> 20/20<br>Differenza età: 4 anni",
          "<b>Compatibilità Fisica:</b> 5/20<br>Differenza altezza: 183.0cm<br>Differenza peso: 0kg<br>Differenza BMI: 0.0",
          "<b>Equilibrio Economico:</b> 20/20<br>Ratio valori: 0.75"
         ],
         "line": {
          "color": "rgba(255, 238, 173, 0.8)"
         },
         "name": "nan Suso",
         "r": [
          20,
          20,
          20,
          5,
          20
         ],
         "theta": [
          "Compatibilità Posizionale",
          "Complementarità Piede",
          "Mix Esperienza",
          "Compatibilità Fisica",
          "Equilibrio Economico"
         ],
         "type": "scatterpolar"
        }
       ],
       "layout": {
        "annotations": [
         {
          "align": "left",
          "bgcolor": "white",
          "bordercolor": "black",
          "borderwidth": 1,
          "font": {
           "size": 11
          },
          "showarrow": false,
          "text": "<b>Sistema di Valutazione (0-20 pts)</b><br><br><b>Compatibilità Posizionale:</b><br>• 20 pts: Alta complementarità<br>• 10 pts: Media complementarità<br>• 0 pts: Bassa complementarità<br><br><b>Complementarità Piede:</b><br>• 20 pts: Piedi opposti<br>• 0 pts: Stesso piede<br><br><b>Mix Esperienza:</b><br>• 20 pts: 2-4 anni differenza<br>• 10 pts: 1-5 anni differenza<br>• 0 pts: Altra differenza<br><br><b>Compatibilità Fisica:</b><br>• 20 pts: 5-15 cm differenza<br>• 10 pts: 0-20 cm differenza<br>• 0 pts: Altra differenza<br><br><b>Equilibrio Economico:</b><br>• 20 pts: Ratio > 0.7<br>• 15 pts: Ratio > 0.4<br>• 10 pts: Ratio > 0.2<br>• 0 pts: Ratio ≤ 0.2<br><br><i>Hover sui punti per dettagli specifici</i>",
          "x": 1.2,
          "xref": "paper",
          "y": 0.95,
          "yref": "paper"
         }
        ],
        "height": 800,
        "legend": {
         "orientation": "h",
         "x": 0.5,
         "xanchor": "center",
         "y": -0.1,
         "yanchor": "top"
        },
        "margin": {
         "b": 150,
         "l": 50,
         "r": 200,
         "t": 100
        },
        "polar": {
         "angularaxis": {
          "direction": "clockwise",
          "tickangle": 0,
          "tickmode": "array",
          "ticktext": [
           "Compatibilità Posizionale",
           "Complementarità Piede",
           "Mix Esperienza",
           "Compatibilità Fisica",
           "Equilibrio Economico"
          ],
          "tickvals": [
           "Compatibilità Posizionale",
           "Complementarità Piede",
           "Mix Esperienza",
           "Compatibilità Fisica",
           "Equilibrio Economico"
          ]
         },
         "radialaxis": {
          "range": [
           0,
           20
          ],
          "ticksuffix": " pts",
          "ticktext": [
           "0",
           "5",
           "10",
           "15",
           "20"
          ],
          "tickvals": [
           0,
           5,
           10,
           15,
           20
          ],
          "title": {
           "text": "Punteggio Base"
          },
          "visible": true
         }
        },
        "showlegend": true,
        "template": {
         "data": {
          "bar": [
           {
            "error_x": {
             "color": "#2a3f5f"
            },
            "error_y": {
             "color": "#2a3f5f"
            },
            "marker": {
             "line": {
              "color": "#E5ECF6",
              "width": 0.5
             },
             "pattern": {
              "fillmode": "overlay",
              "size": 10,
              "solidity": 0.2
             }
            },
            "type": "bar"
           }
          ],
          "barpolar": [
           {
            "marker": {
             "line": {
              "color": "#E5ECF6",
              "width": 0.5
             },
             "pattern": {
              "fillmode": "overlay",
              "size": 10,
              "solidity": 0.2
             }
            },
            "type": "barpolar"
           }
          ],
          "carpet": [
           {
            "aaxis": {
             "endlinecolor": "#2a3f5f",
             "gridcolor": "white",
             "linecolor": "white",
             "minorgridcolor": "white",
             "startlinecolor": "#2a3f5f"
            },
            "baxis": {
             "endlinecolor": "#2a3f5f",
             "gridcolor": "white",
             "linecolor": "white",
             "minorgridcolor": "white",
             "startlinecolor": "#2a3f5f"
            },
            "type": "carpet"
           }
          ],
          "choropleth": [
           {
            "colorbar": {
             "outlinewidth": 0,
             "ticks": ""
            },
            "type": "choropleth"
           }
          ],
          "contour": [
           {
            "colorbar": {
             "outlinewidth": 0,
             "ticks": ""
            },
            "colorscale": [
             [
              0,
              "#0d0887"
             ],
             [
              0.1111111111111111,
              "#46039f"
             ],
             [
              0.2222222222222222,
              "#7201a8"
             ],
             [
              0.3333333333333333,
              "#9c179e"
             ],
             [
              0.4444444444444444,
              "#bd3786"
             ],
             [
              0.5555555555555556,
              "#d8576b"
             ],
             [
              0.6666666666666666,
              "#ed7953"
             ],
             [
              0.7777777777777778,
              "#fb9f3a"
             ],
             [
              0.8888888888888888,
              "#fdca26"
             ],
             [
              1,
              "#f0f921"
             ]
            ],
            "type": "contour"
           }
          ],
          "contourcarpet": [
           {
            "colorbar": {
             "outlinewidth": 0,
             "ticks": ""
            },
            "type": "contourcarpet"
           }
          ],
          "heatmap": [
           {
            "colorbar": {
             "outlinewidth": 0,
             "ticks": ""
            },
            "colorscale": [
             [
              0,
              "#0d0887"
             ],
             [
              0.1111111111111111,
              "#46039f"
             ],
             [
              0.2222222222222222,
              "#7201a8"
             ],
             [
              0.3333333333333333,
              "#9c179e"
             ],
             [
              0.4444444444444444,
              "#bd3786"
             ],
             [
              0.5555555555555556,
              "#d8576b"
             ],
             [
              0.6666666666666666,
              "#ed7953"
             ],
             [
              0.7777777777777778,
              "#fb9f3a"
             ],
             [
              0.8888888888888888,
              "#fdca26"
             ],
             [
              1,
              "#f0f921"
             ]
            ],
            "type": "heatmap"
           }
          ],
          "heatmapgl": [
           {
            "colorbar": {
             "outlinewidth": 0,
             "ticks": ""
            },
            "colorscale": [
             [
              0,
              "#0d0887"
             ],
             [
              0.1111111111111111,
              "#46039f"
             ],
             [
              0.2222222222222222,
              "#7201a8"
             ],
             [
              0.3333333333333333,
              "#9c179e"
             ],
             [
              0.4444444444444444,
              "#bd3786"
             ],
             [
              0.5555555555555556,
              "#d8576b"
             ],
             [
              0.6666666666666666,
              "#ed7953"
             ],
             [
              0.7777777777777778,
              "#fb9f3a"
             ],
             [
              0.8888888888888888,
              "#fdca26"
             ],
             [
              1,
              "#f0f921"
             ]
            ],
            "type": "heatmapgl"
           }
          ],
          "histogram": [
           {
            "marker": {
             "pattern": {
              "fillmode": "overlay",
              "size": 10,
              "solidity": 0.2
             }
            },
            "type": "histogram"
           }
          ],
          "histogram2d": [
           {
            "colorbar": {
             "outlinewidth": 0,
             "ticks": ""
            },
            "colorscale": [
             [
              0,
              "#0d0887"
             ],
             [
              0.1111111111111111,
              "#46039f"
             ],
             [
              0.2222222222222222,
              "#7201a8"
             ],
             [
              0.3333333333333333,
              "#9c179e"
             ],
             [
              0.4444444444444444,
              "#bd3786"
             ],
             [
              0.5555555555555556,
              "#d8576b"
             ],
             [
              0.6666666666666666,
              "#ed7953"
             ],
             [
              0.7777777777777778,
              "#fb9f3a"
             ],
             [
              0.8888888888888888,
              "#fdca26"
             ],
             [
              1,
              "#f0f921"
             ]
            ],
            "type": "histogram2d"
           }
          ],
          "histogram2dcontour": [
           {
            "colorbar": {
             "outlinewidth": 0,
             "ticks": ""
            },
            "colorscale": [
             [
              0,
              "#0d0887"
             ],
             [
              0.1111111111111111,
              "#46039f"
             ],
             [
              0.2222222222222222,
              "#7201a8"
             ],
             [
              0.3333333333333333,
              "#9c179e"
             ],
             [
              0.4444444444444444,
              "#bd3786"
             ],
             [
              0.5555555555555556,
              "#d8576b"
             ],
             [
              0.6666666666666666,
              "#ed7953"
             ],
             [
              0.7777777777777778,
              "#fb9f3a"
             ],
             [
              0.8888888888888888,
              "#fdca26"
             ],
             [
              1,
              "#f0f921"
             ]
            ],
            "type": "histogram2dcontour"
           }
          ],
          "mesh3d": [
           {
            "colorbar": {
             "outlinewidth": 0,
             "ticks": ""
            },
            "type": "mesh3d"
           }
          ],
          "parcoords": [
           {
            "line": {
             "colorbar": {
              "outlinewidth": 0,
              "ticks": ""
             }
            },
            "type": "parcoords"
           }
          ],
          "pie": [
           {
            "automargin": true,
            "type": "pie"
           }
          ],
          "scatter": [
           {
            "fillpattern": {
             "fillmode": "overlay",
             "size": 10,
             "solidity": 0.2
            },
            "type": "scatter"
           }
          ],
          "scatter3d": [
           {
            "line": {
             "colorbar": {
              "outlinewidth": 0,
              "ticks": ""
             }
            },
            "marker": {
             "colorbar": {
              "outlinewidth": 0,
              "ticks": ""
             }
            },
            "type": "scatter3d"
           }
          ],
          "scattercarpet": [
           {
            "marker": {
             "colorbar": {
              "outlinewidth": 0,
              "ticks": ""
             }
            },
            "type": "scattercarpet"
           }
          ],
          "scattergeo": [
           {
            "marker": {
             "colorbar": {
              "outlinewidth": 0,
              "ticks": ""
             }
            },
            "type": "scattergeo"
           }
          ],
          "scattergl": [
           {
            "marker": {
             "colorbar": {
              "outlinewidth": 0,
              "ticks": ""
             }
            },
            "type": "scattergl"
           }
          ],
          "scattermapbox": [
           {
            "marker": {
             "colorbar": {
              "outlinewidth": 0,
              "ticks": ""
             }
            },
            "type": "scattermapbox"
           }
          ],
          "scatterpolar": [
           {
            "marker": {
             "colorbar": {
              "outlinewidth": 0,
              "ticks": ""
             }
            },
            "type": "scatterpolar"
           }
          ],
          "scatterpolargl": [
           {
            "marker": {
             "colorbar": {
              "outlinewidth": 0,
              "ticks": ""
             }
            },
            "type": "scatterpolargl"
           }
          ],
          "scatterternary": [
           {
            "marker": {
             "colorbar": {
              "outlinewidth": 0,
              "ticks": ""
             }
            },
            "type": "scatterternary"
           }
          ],
          "surface": [
           {
            "colorbar": {
             "outlinewidth": 0,
             "ticks": ""
            },
            "colorscale": [
             [
              0,
              "#0d0887"
             ],
             [
              0.1111111111111111,
              "#46039f"
             ],
             [
              0.2222222222222222,
              "#7201a8"
             ],
             [
              0.3333333333333333,
              "#9c179e"
             ],
             [
              0.4444444444444444,
              "#bd3786"
             ],
             [
              0.5555555555555556,
              "#d8576b"
             ],
             [
              0.6666666666666666,
              "#ed7953"
             ],
             [
              0.7777777777777778,
              "#fb9f3a"
             ],
             [
              0.8888888888888888,
              "#fdca26"
             ],
             [
              1,
              "#f0f921"
             ]
            ],
            "type": "surface"
           }
          ],
          "table": [
           {
            "cells": {
             "fill": {
              "color": "#EBF0F8"
             },
             "line": {
              "color": "white"
             }
            },
            "header": {
             "fill": {
              "color": "#C8D4E3"
             },
             "line": {
              "color": "white"
             }
            },
            "type": "table"
           }
          ]
         },
         "layout": {
          "annotationdefaults": {
           "arrowcolor": "#2a3f5f",
           "arrowhead": 0,
           "arrowwidth": 1
          },
          "autotypenumbers": "strict",
          "coloraxis": {
           "colorbar": {
            "outlinewidth": 0,
            "ticks": ""
           }
          },
          "colorscale": {
           "diverging": [
            [
             0,
             "#8e0152"
            ],
            [
             0.1,
             "#c51b7d"
            ],
            [
             0.2,
             "#de77ae"
            ],
            [
             0.3,
             "#f1b6da"
            ],
            [
             0.4,
             "#fde0ef"
            ],
            [
             0.5,
             "#f7f7f7"
            ],
            [
             0.6,
             "#e6f5d0"
            ],
            [
             0.7,
             "#b8e186"
            ],
            [
             0.8,
             "#7fbc41"
            ],
            [
             0.9,
             "#4d9221"
            ],
            [
             1,
             "#276419"
            ]
           ],
           "sequential": [
            [
             0,
             "#0d0887"
            ],
            [
             0.1111111111111111,
             "#46039f"
            ],
            [
             0.2222222222222222,
             "#7201a8"
            ],
            [
             0.3333333333333333,
             "#9c179e"
            ],
            [
             0.4444444444444444,
             "#bd3786"
            ],
            [
             0.5555555555555556,
             "#d8576b"
            ],
            [
             0.6666666666666666,
             "#ed7953"
            ],
            [
             0.7777777777777778,
             "#fb9f3a"
            ],
            [
             0.8888888888888888,
             "#fdca26"
            ],
            [
             1,
             "#f0f921"
            ]
           ],
           "sequentialminus": [
            [
             0,
             "#0d0887"
            ],
            [
             0.1111111111111111,
             "#46039f"
            ],
            [
             0.2222222222222222,
             "#7201a8"
            ],
            [
             0.3333333333333333,
             "#9c179e"
            ],
            [
             0.4444444444444444,
             "#bd3786"
            ],
            [
             0.5555555555555556,
             "#d8576b"
            ],
            [
             0.6666666666666666,
             "#ed7953"
            ],
            [
             0.7777777777777778,
             "#fb9f3a"
            ],
            [
             0.8888888888888888,
             "#fdca26"
            ],
            [
             1,
             "#f0f921"
            ]
           ]
          },
          "colorway": [
           "#636efa",
           "#EF553B",
           "#00cc96",
           "#ab63fa",
           "#FFA15A",
           "#19d3f3",
           "#FF6692",
           "#B6E880",
           "#FF97FF",
           "#FECB52"
          ],
          "font": {
           "color": "#2a3f5f"
          },
          "geo": {
           "bgcolor": "white",
           "lakecolor": "white",
           "landcolor": "#E5ECF6",
           "showlakes": true,
           "showland": true,
           "subunitcolor": "white"
          },
          "hoverlabel": {
           "align": "left"
          },
          "hovermode": "closest",
          "mapbox": {
           "style": "light"
          },
          "paper_bgcolor": "white",
          "plot_bgcolor": "#E5ECF6",
          "polar": {
           "angularaxis": {
            "gridcolor": "white",
            "linecolor": "white",
            "ticks": ""
           },
           "bgcolor": "#E5ECF6",
           "radialaxis": {
            "gridcolor": "white",
            "linecolor": "white",
            "ticks": ""
           }
          },
          "scene": {
           "xaxis": {
            "backgroundcolor": "#E5ECF6",
            "gridcolor": "white",
            "gridwidth": 2,
            "linecolor": "white",
            "showbackground": true,
            "ticks": "",
            "zerolinecolor": "white"
           },
           "yaxis": {
            "backgroundcolor": "#E5ECF6",
            "gridcolor": "white",
            "gridwidth": 2,
            "linecolor": "white",
            "showbackground": true,
            "ticks": "",
            "zerolinecolor": "white"
           },
           "zaxis": {
            "backgroundcolor": "#E5ECF6",
            "gridcolor": "white",
            "gridwidth": 2,
            "linecolor": "white",
            "showbackground": true,
            "ticks": "",
            "zerolinecolor": "white"
           }
          },
          "shapedefaults": {
           "line": {
            "color": "#2a3f5f"
           }
          },
          "ternary": {
           "aaxis": {
            "gridcolor": "white",
            "linecolor": "white",
            "ticks": ""
           },
           "baxis": {
            "gridcolor": "white",
            "linecolor": "white",
            "ticks": ""
           },
           "bgcolor": "#E5ECF6",
           "caxis": {
            "gridcolor": "white",
            "linecolor": "white",
            "ticks": ""
           }
          },
          "title": {
           "x": 0.05
          },
          "xaxis": {
           "automargin": true,
           "gridcolor": "white",
           "linecolor": "white",
           "ticks": "",
           "title": {
            "standoff": 15
           },
           "zerolinecolor": "white",
           "zerolinewidth": 2
          },
          "yaxis": {
           "automargin": true,
           "gridcolor": "white",
           "linecolor": "white",
           "ticks": "",
           "title": {
            "standoff": 15
           },
           "zerolinecolor": "white",
           "zerolinewidth": 2
          }
         }
        },
        "title": {
         "text": "Analisi Complementarità con Matteo Darmian",
         "x": 0.5,
         "xanchor": "center",
         "y": 0.95,
         "yanchor": "top"
        },
        "width": 1200
       }
      }
     },
     "metadata": {},
     "output_type": "display_data"
    },
    {
     "data": {
      "application/vnd.plotly.v1+json": {
       "config": {
        "plotlyServerURL": "https://plot.ly"
       },
       "data": [
        {
         "customdata": [
          [
           31,
           "€3.5M"
          ],
          [
           33,
           "€2.0M"
          ],
          [
           32,
           "€7.0M"
          ],
          [
           31,
           "€10.0M"
          ],
          [
           31,
           "€3.0M"
          ],
          [
           33,
           "€1.5M"
          ],
          [
           31,
           "€2.0M"
          ],
          [
           31,
           "€3.5M"
          ],
          [
           31,
           "€2.2M"
          ],
          [
           31,
           "€8.0M"
          ],
          [
           31,
           "€1.3M"
          ],
          [
           31,
           "€1.5M"
          ],
          [
           31,
           "€10.0M"
          ],
          [
           32,
           "€2.5M"
          ],
          [
           31,
           "€2.6M"
          ]
         ],
         "hovertemplate": "<b>%{x}</b><br>Punteggio: %{y:.1f}<br>Età: %{customdata[0]} anni<br>Valore: %{customdata[1]}<br><extra></extra>",
         "marker": {
          "color": [
           "rgba(255, 0, 0, 0.7)",
           "rgba(255, 0, 0, 0.7)",
           "rgba(255, 255, 0, 0.7)",
           "rgba(255, 255, 0, 0.7)",
           "rgba(255, 255, 0, 0.7)",
           "rgba(255, 255, 0, 0.7)",
           "rgba(255, 255, 0, 0.7)",
           "rgba(255, 255, 0, 0.7)",
           "rgba(255, 255, 0, 0.7)",
           "rgba(255, 255, 0, 0.7)",
           "rgba(255, 255, 0, 0.7)",
           "rgba(255, 255, 0, 0.7)",
           "rgba(255, 255, 0, 0.7)",
           "rgba(255, 255, 0, 0.7)",
           "rgba(255, 255, 0, 0.7)"
          ]
         },
         "text": [
          "100.0",
          "100.0",
          "90.0",
          "90.0",
          "90.0",
          "90.0",
          "90.0",
          "90.0",
          "90.0",
          "90.0",
          "90.0",
          "90.0",
          "90.0",
          "90.0",
          "90.0"
         ],
         "textposition": "auto",
         "type": "bar",
         "x": [
          "Pablo Marí<br>(Defender)",
          "Junior Messias<br>(Attack)",
          "Pablo Sarabia<br>(Attack)",
          "Sead Kolasinac<br>(Defender)",
          "nan Suso<br>(Attack)",
          "nan Juan Jesus<br>(Defender)",
          "John Brooks<br>(Defender)",
          "Jesús Corona<br>(Attack)",
          "Alexander Hack<br>(Defender)",
          "Geoffrey Kondogbia<br>(Midfield)",
          "Karol Mets<br>(Defender)",
          "Matija Nastasic<br>(Defender)",
          "Matteo Politano<br>(Attack)",
          "Omar Colley<br>(Defender)",
          "Stefano Denswil<br>(Defender)"
         ],
         "y": [
          100,
          100,
          90,
          90,
          90,
          90,
          90,
          90,
          90,
          90,
          90,
          90,
          90,
          90,
          90
         ]
        }
       ],
       "layout": {
        "height": 500,
        "margin": {
         "b": 150,
         "l": 50,
         "r": 50,
         "t": 100
        },
        "showlegend": false,
        "template": {
         "data": {
          "bar": [
           {
            "error_x": {
             "color": "#2a3f5f"
            },
            "error_y": {
             "color": "#2a3f5f"
            },
            "marker": {
             "line": {
              "color": "#E5ECF6",
              "width": 0.5
             },
             "pattern": {
              "fillmode": "overlay",
              "size": 10,
              "solidity": 0.2
             }
            },
            "type": "bar"
           }
          ],
          "barpolar": [
           {
            "marker": {
             "line": {
              "color": "#E5ECF6",
              "width": 0.5
             },
             "pattern": {
              "fillmode": "overlay",
              "size": 10,
              "solidity": 0.2
             }
            },
            "type": "barpolar"
           }
          ],
          "carpet": [
           {
            "aaxis": {
             "endlinecolor": "#2a3f5f",
             "gridcolor": "white",
             "linecolor": "white",
             "minorgridcolor": "white",
             "startlinecolor": "#2a3f5f"
            },
            "baxis": {
             "endlinecolor": "#2a3f5f",
             "gridcolor": "white",
             "linecolor": "white",
             "minorgridcolor": "white",
             "startlinecolor": "#2a3f5f"
            },
            "type": "carpet"
           }
          ],
          "choropleth": [
           {
            "colorbar": {
             "outlinewidth": 0,
             "ticks": ""
            },
            "type": "choropleth"
           }
          ],
          "contour": [
           {
            "colorbar": {
             "outlinewidth": 0,
             "ticks": ""
            },
            "colorscale": [
             [
              0,
              "#0d0887"
             ],
             [
              0.1111111111111111,
              "#46039f"
             ],
             [
              0.2222222222222222,
              "#7201a8"
             ],
             [
              0.3333333333333333,
              "#9c179e"
             ],
             [
              0.4444444444444444,
              "#bd3786"
             ],
             [
              0.5555555555555556,
              "#d8576b"
             ],
             [
              0.6666666666666666,
              "#ed7953"
             ],
             [
              0.7777777777777778,
              "#fb9f3a"
             ],
             [
              0.8888888888888888,
              "#fdca26"
             ],
             [
              1,
              "#f0f921"
             ]
            ],
            "type": "contour"
           }
          ],
          "contourcarpet": [
           {
            "colorbar": {
             "outlinewidth": 0,
             "ticks": ""
            },
            "type": "contourcarpet"
           }
          ],
          "heatmap": [
           {
            "colorbar": {
             "outlinewidth": 0,
             "ticks": ""
            },
            "colorscale": [
             [
              0,
              "#0d0887"
             ],
             [
              0.1111111111111111,
              "#46039f"
             ],
             [
              0.2222222222222222,
              "#7201a8"
             ],
             [
              0.3333333333333333,
              "#9c179e"
             ],
             [
              0.4444444444444444,
              "#bd3786"
             ],
             [
              0.5555555555555556,
              "#d8576b"
             ],
             [
              0.6666666666666666,
              "#ed7953"
             ],
             [
              0.7777777777777778,
              "#fb9f3a"
             ],
             [
              0.8888888888888888,
              "#fdca26"
             ],
             [
              1,
              "#f0f921"
             ]
            ],
            "type": "heatmap"
           }
          ],
          "heatmapgl": [
           {
            "colorbar": {
             "outlinewidth": 0,
             "ticks": ""
            },
            "colorscale": [
             [
              0,
              "#0d0887"
             ],
             [
              0.1111111111111111,
              "#46039f"
             ],
             [
              0.2222222222222222,
              "#7201a8"
             ],
             [
              0.3333333333333333,
              "#9c179e"
             ],
             [
              0.4444444444444444,
              "#bd3786"
             ],
             [
              0.5555555555555556,
              "#d8576b"
             ],
             [
              0.6666666666666666,
              "#ed7953"
             ],
             [
              0.7777777777777778,
              "#fb9f3a"
             ],
             [
              0.8888888888888888,
              "#fdca26"
             ],
             [
              1,
              "#f0f921"
             ]
            ],
            "type": "heatmapgl"
           }
          ],
          "histogram": [
           {
            "marker": {
             "pattern": {
              "fillmode": "overlay",
              "size": 10,
              "solidity": 0.2
             }
            },
            "type": "histogram"
           }
          ],
          "histogram2d": [
           {
            "colorbar": {
             "outlinewidth": 0,
             "ticks": ""
            },
            "colorscale": [
             [
              0,
              "#0d0887"
             ],
             [
              0.1111111111111111,
              "#46039f"
             ],
             [
              0.2222222222222222,
              "#7201a8"
             ],
             [
              0.3333333333333333,
              "#9c179e"
             ],
             [
              0.4444444444444444,
              "#bd3786"
             ],
             [
              0.5555555555555556,
              "#d8576b"
             ],
             [
              0.6666666666666666,
              "#ed7953"
             ],
             [
              0.7777777777777778,
              "#fb9f3a"
             ],
             [
              0.8888888888888888,
              "#fdca26"
             ],
             [
              1,
              "#f0f921"
             ]
            ],
            "type": "histogram2d"
           }
          ],
          "histogram2dcontour": [
           {
            "colorbar": {
             "outlinewidth": 0,
             "ticks": ""
            },
            "colorscale": [
             [
              0,
              "#0d0887"
             ],
             [
              0.1111111111111111,
              "#46039f"
             ],
             [
              0.2222222222222222,
              "#7201a8"
             ],
             [
              0.3333333333333333,
              "#9c179e"
             ],
             [
              0.4444444444444444,
              "#bd3786"
             ],
             [
              0.5555555555555556,
              "#d8576b"
             ],
             [
              0.6666666666666666,
              "#ed7953"
             ],
             [
              0.7777777777777778,
              "#fb9f3a"
             ],
             [
              0.8888888888888888,
              "#fdca26"
             ],
             [
              1,
              "#f0f921"
             ]
            ],
            "type": "histogram2dcontour"
           }
          ],
          "mesh3d": [
           {
            "colorbar": {
             "outlinewidth": 0,
             "ticks": ""
            },
            "type": "mesh3d"
           }
          ],
          "parcoords": [
           {
            "line": {
             "colorbar": {
              "outlinewidth": 0,
              "ticks": ""
             }
            },
            "type": "parcoords"
           }
          ],
          "pie": [
           {
            "automargin": true,
            "type": "pie"
           }
          ],
          "scatter": [
           {
            "fillpattern": {
             "fillmode": "overlay",
             "size": 10,
             "solidity": 0.2
            },
            "type": "scatter"
           }
          ],
          "scatter3d": [
           {
            "line": {
             "colorbar": {
              "outlinewidth": 0,
              "ticks": ""
             }
            },
            "marker": {
             "colorbar": {
              "outlinewidth": 0,
              "ticks": ""
             }
            },
            "type": "scatter3d"
           }
          ],
          "scattercarpet": [
           {
            "marker": {
             "colorbar": {
              "outlinewidth": 0,
              "ticks": ""
             }
            },
            "type": "scattercarpet"
           }
          ],
          "scattergeo": [
           {
            "marker": {
             "colorbar": {
              "outlinewidth": 0,
              "ticks": ""
             }
            },
            "type": "scattergeo"
           }
          ],
          "scattergl": [
           {
            "marker": {
             "colorbar": {
              "outlinewidth": 0,
              "ticks": ""
             }
            },
            "type": "scattergl"
           }
          ],
          "scattermapbox": [
           {
            "marker": {
             "colorbar": {
              "outlinewidth": 0,
              "ticks": ""
             }
            },
            "type": "scattermapbox"
           }
          ],
          "scatterpolar": [
           {
            "marker": {
             "colorbar": {
              "outlinewidth": 0,
              "ticks": ""
             }
            },
            "type": "scatterpolar"
           }
          ],
          "scatterpolargl": [
           {
            "marker": {
             "colorbar": {
              "outlinewidth": 0,
              "ticks": ""
             }
            },
            "type": "scatterpolargl"
           }
          ],
          "scatterternary": [
           {
            "marker": {
             "colorbar": {
              "outlinewidth": 0,
              "ticks": ""
             }
            },
            "type": "scatterternary"
           }
          ],
          "surface": [
           {
            "colorbar": {
             "outlinewidth": 0,
             "ticks": ""
            },
            "colorscale": [
             [
              0,
              "#0d0887"
             ],
             [
              0.1111111111111111,
              "#46039f"
             ],
             [
              0.2222222222222222,
              "#7201a8"
             ],
             [
              0.3333333333333333,
              "#9c179e"
             ],
             [
              0.4444444444444444,
              "#bd3786"
             ],
             [
              0.5555555555555556,
              "#d8576b"
             ],
             [
              0.6666666666666666,
              "#ed7953"
             ],
             [
              0.7777777777777778,
              "#fb9f3a"
             ],
             [
              0.8888888888888888,
              "#fdca26"
             ],
             [
              1,
              "#f0f921"
             ]
            ],
            "type": "surface"
           }
          ],
          "table": [
           {
            "cells": {
             "fill": {
              "color": "#EBF0F8"
             },
             "line": {
              "color": "white"
             }
            },
            "header": {
             "fill": {
              "color": "#C8D4E3"
             },
             "line": {
              "color": "white"
             }
            },
            "type": "table"
           }
          ]
         },
         "layout": {
          "annotationdefaults": {
           "arrowcolor": "#2a3f5f",
           "arrowhead": 0,
           "arrowwidth": 1
          },
          "autotypenumbers": "strict",
          "coloraxis": {
           "colorbar": {
            "outlinewidth": 0,
            "ticks": ""
           }
          },
          "colorscale": {
           "diverging": [
            [
             0,
             "#8e0152"
            ],
            [
             0.1,
             "#c51b7d"
            ],
            [
             0.2,
             "#de77ae"
            ],
            [
             0.3,
             "#f1b6da"
            ],
            [
             0.4,
             "#fde0ef"
            ],
            [
             0.5,
             "#f7f7f7"
            ],
            [
             0.6,
             "#e6f5d0"
            ],
            [
             0.7,
             "#b8e186"
            ],
            [
             0.8,
             "#7fbc41"
            ],
            [
             0.9,
             "#4d9221"
            ],
            [
             1,
             "#276419"
            ]
           ],
           "sequential": [
            [
             0,
             "#0d0887"
            ],
            [
             0.1111111111111111,
             "#46039f"
            ],
            [
             0.2222222222222222,
             "#7201a8"
            ],
            [
             0.3333333333333333,
             "#9c179e"
            ],
            [
             0.4444444444444444,
             "#bd3786"
            ],
            [
             0.5555555555555556,
             "#d8576b"
            ],
            [
             0.6666666666666666,
             "#ed7953"
            ],
            [
             0.7777777777777778,
             "#fb9f3a"
            ],
            [
             0.8888888888888888,
             "#fdca26"
            ],
            [
             1,
             "#f0f921"
            ]
           ],
           "sequentialminus": [
            [
             0,
             "#0d0887"
            ],
            [
             0.1111111111111111,
             "#46039f"
            ],
            [
             0.2222222222222222,
             "#7201a8"
            ],
            [
             0.3333333333333333,
             "#9c179e"
            ],
            [
             0.4444444444444444,
             "#bd3786"
            ],
            [
             0.5555555555555556,
             "#d8576b"
            ],
            [
             0.6666666666666666,
             "#ed7953"
            ],
            [
             0.7777777777777778,
             "#fb9f3a"
            ],
            [
             0.8888888888888888,
             "#fdca26"
            ],
            [
             1,
             "#f0f921"
            ]
           ]
          },
          "colorway": [
           "#636efa",
           "#EF553B",
           "#00cc96",
           "#ab63fa",
           "#FFA15A",
           "#19d3f3",
           "#FF6692",
           "#B6E880",
           "#FF97FF",
           "#FECB52"
          ],
          "font": {
           "color": "#2a3f5f"
          },
          "geo": {
           "bgcolor": "white",
           "lakecolor": "white",
           "landcolor": "#E5ECF6",
           "showlakes": true,
           "showland": true,
           "subunitcolor": "white"
          },
          "hoverlabel": {
           "align": "left"
          },
          "hovermode": "closest",
          "mapbox": {
           "style": "light"
          },
          "paper_bgcolor": "white",
          "plot_bgcolor": "#E5ECF6",
          "polar": {
           "angularaxis": {
            "gridcolor": "white",
            "linecolor": "white",
            "ticks": ""
           },
           "bgcolor": "#E5ECF6",
           "radialaxis": {
            "gridcolor": "white",
            "linecolor": "white",
            "ticks": ""
           }
          },
          "scene": {
           "xaxis": {
            "backgroundcolor": "#E5ECF6",
            "gridcolor": "white",
            "gridwidth": 2,
            "linecolor": "white",
            "showbackground": true,
            "ticks": "",
            "zerolinecolor": "white"
           },
           "yaxis": {
            "backgroundcolor": "#E5ECF6",
            "gridcolor": "white",
            "gridwidth": 2,
            "linecolor": "white",
            "showbackground": true,
            "ticks": "",
            "zerolinecolor": "white"
           },
           "zaxis": {
            "backgroundcolor": "#E5ECF6",
            "gridcolor": "white",
            "gridwidth": 2,
            "linecolor": "white",
            "showbackground": true,
            "ticks": "",
            "zerolinecolor": "white"
           }
          },
          "shapedefaults": {
           "line": {
            "color": "#2a3f5f"
           }
          },
          "ternary": {
           "aaxis": {
            "gridcolor": "white",
            "linecolor": "white",
            "ticks": ""
           },
           "baxis": {
            "gridcolor": "white",
            "linecolor": "white",
            "ticks": ""
           },
           "bgcolor": "#E5ECF6",
           "caxis": {
            "gridcolor": "white",
            "linecolor": "white",
            "ticks": ""
           }
          },
          "title": {
           "x": 0.05
          },
          "xaxis": {
           "automargin": true,
           "gridcolor": "white",
           "linecolor": "white",
           "ticks": "",
           "title": {
            "standoff": 15
           },
           "zerolinecolor": "white",
           "zerolinewidth": 2
          },
          "yaxis": {
           "automargin": true,
           "gridcolor": "white",
           "linecolor": "white",
           "ticks": "",
           "title": {
            "standoff": 15
           },
           "zerolinecolor": "white",
           "zerolinewidth": 2
          }
         }
        },
        "title": {
         "text": "Top 15 Giocatori Compatibili con Matteo Darmian",
         "x": 0.5,
         "xanchor": "center",
         "y": 0.95,
         "yanchor": "top"
        },
        "width": 1200,
        "xaxis": {
         "tickangle": -45,
         "title": {
          "text": "Giocatore"
         }
        },
        "yaxis": {
         "range": [
          0,
          100
         ],
         "title": {
          "text": "Punteggio di Compatibilità"
         }
        }
       }
      }
     },
     "metadata": {},
     "output_type": "display_data"
    }
   ],
   "source": [
    "def create_advanced_visualization(player, compatibilities):\n",
    "    \"\"\"\n",
    "    Crea visualizzazione radar per l'analisi di complementarità tra calciatori\n",
    "    con punteggi standardizzati (0-20) per ogni categoria\n",
    "    \"\"\"\n",
    "    fig1 = go.Figure()\n",
    "    \n",
    "    colors = [\n",
    "        'rgba(255, 107, 107, 0.8)',  # rosso\n",
    "        'rgba(78, 205, 196, 0.8)',   # verde acqua\n",
    "        'rgba(69, 183, 209, 0.8)',   # azzurro\n",
    "        'rgba(150, 206, 180, 0.8)',  # verde chiaro\n",
    "        'rgba(255, 238, 173, 0.8)'   # giallo chiaro\n",
    "    ]\n",
    "    \n",
    "    categories = [\n",
    "        'Compatibilità Posizionale',\n",
    "        'Complementarità Piede',\n",
    "        'Mix Esperienza',\n",
    "        'Compatibilità Fisica',\n",
    "        'Equilibrio Economico'\n",
    "    ]\n",
    "    \n",
    "    for idx, comp in enumerate(compatibilities[:5]):\n",
    "        # Calcolo punteggi standardizzati (0-20)\n",
    "        pos_score = 20 if 'Posizioni altamente complementari' in ' '.join(comp['reasons']) else (\n",
    "            10 if 'Posizioni complementari' in ' '.join(comp['reasons']) else 0\n",
    "        )\n",
    "        \n",
    "        foot_score = 20 if 'Complementarità piedi' in ' '.join(comp['reasons']) else 0\n",
    "        \n",
    "        age_diff = abs(player['age'] - comp['age'])\n",
    "        exp_score = 20 if 2 <= age_diff <= 4 else (\n",
    "            10 if 1 <= age_diff <= 5 else 0\n",
    "        )\n",
    "        \n",
    "        # Nuovo calcolo compatibilità fisica\n",
    "        height_diff = abs(player['height_in_cm'] - comp.get('height_in_cm', 0))\n",
    "        weight_diff = abs(player.get('weight_kg', 0) - comp.get('weight_kg', 0))\n",
    "        \n",
    "        # Calcolo BMI\n",
    "        player_bmi = calculate_bmi(player.get('weight_kg', 0), player['height_in_cm']/100)\n",
    "        comp_bmi = calculate_bmi(comp.get('weight_kg', 0), comp.get('height_in_cm', 0)/100)\n",
    "        bmi_diff = abs(player_bmi - comp_bmi)\n",
    "        \n",
    "        # Punteggio fisico basato su più parametri\n",
    "        phys_score = 0\n",
    "        if 5 <= height_diff <= 15:\n",
    "            phys_score += 10\n",
    "        if 5 <= weight_diff <= 15:\n",
    "            phys_score += 5\n",
    "        if 0 <= bmi_diff <= 2:\n",
    "            phys_score += 5\n",
    "        \n",
    "        if player['market_value_in_eur'] > 0 and comp['market_value'] > 0:\n",
    "            market_ratio = min(player['market_value_in_eur'], comp['market_value']) / max(player['market_value_in_eur'], comp['market_value'])\n",
    "            eco_score = 20 if market_ratio > 0.7 else (\n",
    "                15 if market_ratio > 0.4 else (\n",
    "                    10 if market_ratio > 0.2 else 0\n",
    "                )\n",
    "            )\n",
    "        else:\n",
    "            eco_score = 0\n",
    "            market_ratio = 0\n",
    "        \n",
    "        values = [pos_score, foot_score, exp_score, phys_score, eco_score]\n",
    "        \n",
    "        # Testi hover dettagliati\n",
    "        hover_text = [\n",
    "            f\"<b>Compatibilità Posizionale:</b> {pos_score}/20<br>\" +\n",
    "            f\"({comp['position']} - {player['position']})\",\n",
    "            \n",
    "            f\"<b>Complementarità Piede:</b> {foot_score}/20<br>\" +\n",
    "            f\"({comp.get('foot', 'N/A')} - {player.get('foot', 'N/A')})\",\n",
    "            \n",
    "            f\"<b>Mix Esperienza:</b> {exp_score}/20<br>\" +\n",
    "            f\"Differenza età: {age_diff} anni\",\n",
    "            \n",
    "            f\"<b>Compatibilità Fisica:</b> {phys_score}/20<br>\" +\n",
    "            f\"Differenza altezza: {height_diff}cm<br>\" +\n",
    "            f\"Differenza peso: {weight_diff}kg<br>\" +\n",
    "            f\"Differenza BMI: {bmi_diff:.1f}\",\n",
    "            \n",
    "            f\"<b>Equilibrio Economico:</b> {eco_score}/20<br>\" +\n",
    "            f\"Ratio valori: {market_ratio:.2f}\"\n",
    "            \n",
    "        ]\n",
    "        \n",
    "        fig1.add_trace(go.Scatterpolar(\n",
    "            r=values,\n",
    "            theta=categories,\n",
    "            name=f\"{comp['name']}\",\n",
    "            fill='toself',\n",
    "            line=dict(color=colors[idx]),\n",
    "            fillcolor=colors[idx],\n",
    "            hovertext=hover_text,\n",
    "            hoverinfo='text'\n",
    "        ))\n",
    "    \n",
    "    # Layout ottimizzato\n",
    "    fig1.update_layout(\n",
    "        polar=dict(\n",
    "            radialaxis=dict(\n",
    "                visible=True,\n",
    "                range=[0, 20],\n",
    "                ticktext=['0', '5', '10', '15', '20'],\n",
    "                tickvals=[0, 5, 10, 15, 20],\n",
    "                ticksuffix=' pts',\n",
    "                title='Punteggio Base'\n",
    "            ),\n",
    "            angularaxis=dict(\n",
    "                ticktext=categories,\n",
    "                tickvals=categories,\n",
    "                tickmode='array',\n",
    "                direction='clockwise',\n",
    "                tickangle=0\n",
    "            )\n",
    "        ),\n",
    "        showlegend=True,\n",
    "        legend=dict(\n",
    "            yanchor=\"top\",\n",
    "            y=-0.1,\n",
    "            xanchor=\"center\",\n",
    "            x=0.5,\n",
    "            orientation=\"h\"\n",
    "        ),\n",
    "        title={\n",
    "            'text': f'Analisi Complementarità con {player[\"first_name\"]} {player[\"last_name\"]}',\n",
    "            'y':0.95,\n",
    "            'x':0.5,\n",
    "            'xanchor': 'center',\n",
    "            'yanchor': 'top'\n",
    "        },\n",
    "        margin=dict(t=100, b=150, r=200, l=50),\n",
    "        height=800,\n",
    "        width=1200,\n",
    "        annotations=[\n",
    "            dict(\n",
    "                text='<b>Sistema di Valutazione (0-20 pts)</b><br><br>' +\n",
    "                     '<b>Compatibilità Posizionale:</b><br>' +\n",
    "                     '• 20 pts: Alta complementarità<br>' +\n",
    "                     '• 10 pts: Media complementarità<br>' +\n",
    "                     '• 0 pts: Bassa complementarità<br><br>' +\n",
    "                     '<b>Complementarità Piede:</b><br>' +\n",
    "                     '• 20 pts: Piedi opposti<br>' +\n",
    "                     '• 0 pts: Stesso piede<br><br>' +\n",
    "                     '<b>Mix Esperienza:</b><br>' +\n",
    "                     '• 20 pts: 2-4 anni differenza<br>' +\n",
    "                     '• 10 pts: 1-5 anni differenza<br>' +\n",
    "                     '• 0 pts: Altra differenza' + \n",
    "                     '<br><br>' +\n",
    "                     '<b>Compatibilità Fisica:</b><br>' +\n",
    "                     '• 20 pts: 5-15 cm differenza<br>' +\n",
    "                     '• 10 pts: 0-20 cm differenza<br>' +\n",
    "                     '• 0 pts: Altra differenza<br><br>' +\n",
    "                     '<b>Equilibrio Economico:</b><br>' +\n",
    "                     '• 20 pts: Ratio > 0.7<br>' +\n",
    "                     '• 15 pts: Ratio > 0.4<br>' +\n",
    "                     '• 10 pts: Ratio > 0.2<br>' +\n",
    "                     '• 0 pts: Ratio ≤ 0.2<br><br>' +\n",
    "                     '<i>Hover sui punti per dettagli specifici</i>',\n",
    "                align='left',\n",
    "                showarrow=False,\n",
    "                xref='paper',\n",
    "                yref='paper',\n",
    "                x=1.2,\n",
    "                y=0.95,\n",
    "                bordercolor='black',\n",
    "                borderwidth=1,\n",
    "                bgcolor='white',\n",
    "                font=dict(size=11)\n",
    "            \n",
    "            )\n",
    "        ]\n",
    "    )\n",
    "    \n",
    "    # Aggiungiamo l'istogramma dei top 15\n",
    "    fig2 = go.Figure()\n",
    "    \n",
    "    # Ordiniamo i giocatori per punteggio\n",
    "    top_15 = sorted(compatibilities[:15], key=lambda x: x['score'], reverse=True)\n",
    "    \n",
    "    # Creiamo una scala di colori basata sui punteggi\n",
    "    max_score = max(x['score'] for x in top_15)\n",
    "    min_score = min(x['score'] for x in top_15)\n",
    "    \n",
    "    # Calcoliamo i colori in base al punteggio\n",
    "    colors = [\n",
    "        f'rgba(255, {int(255 * (1 - (x[\"score\"] - min_score)/(max_score - min_score)))}, 0, 0.7)'\n",
    "        for x in top_15\n",
    "    ]\n",
    "    \n",
    "    fig2.add_trace(go.Bar(\n",
    "        x=[f\"{x['name']}<br>({x['position']})\" for x in top_15],\n",
    "        y=[x['score'] for x in top_15],\n",
    "        marker_color=colors,\n",
    "        text=[f\"{x['score']:.1f}\" for x in top_15],\n",
    "        textposition='auto',\n",
    "        hovertemplate=(\n",
    "            \"<b>%{x}</b><br>\" +\n",
    "            \"Punteggio: %{y:.1f}<br>\" +\n",
    "            \"Età: %{customdata[0]} anni<br>\" +\n",
    "            \"Valore: %{customdata[1]}<br>\" +\n",
    "            \"<extra></extra>\"\n",
    "        ),\n",
    "        customdata=[[x['age'], format_currency(x['market_value'])] for x in top_15]\n",
    "    ))\n",
    "    \n",
    "    fig2.update_layout(\n",
    "        title={\n",
    "            'text': f'Top 15 Giocatori Compatibili con {player[\"first_name\"]} {player[\"last_name\"]}',\n",
    "            'y':0.95,\n",
    "            'x':0.5,\n",
    "            'xanchor': 'center',\n",
    "            'yanchor': 'top'\n",
    "        },\n",
    "        xaxis_title=\"Giocatore\",\n",
    "        yaxis_title=\"Punteggio di Compatibilità\",\n",
    "        yaxis_range=[0, 100],\n",
    "        height=500,\n",
    "        width=1200,\n",
    "        margin=dict(t=100, b=150, r=50, l=50),\n",
    "        showlegend=False,\n",
    "        xaxis_tickangle=-45\n",
    "    )\n",
    "    \n",
    "    return fig1, fig2\n",
    "\n",
    "# Aggiungiamo una funzione per mostrare un sommario testuale\n",
    "def print_compatibility_summary(player, compatibilities):\n",
    "    \"\"\"\n",
    "    Stampa un sommario dettagliato delle compatibilità\n",
    "    \"\"\"\n",
    "    print(f\"\\nANALISI DETTAGLIATA COMPATIBILITÀ PER {player['first_name']} {player['last_name']}\")\n",
    "    print(f\"Posizione: {player['position']} ({player['sub_position']})\")\n",
    "    print(f\"Età: {player['age']} anni\")\n",
    "    print(f\"Valore di mercato: {format_currency(player['market_value_in_eur'])}\")\n",
    "    print(\"\\nTOP 5 GIOCATORI COMPATIBILI:\")\n",
    "    \n",
    "    for i, comp in enumerate(compatibilities[:5], 1):\n",
    "        print(f\"\\n{i}. {comp['name']} - Score: {comp['score']}/100\")\n",
    "        print(f\"   {'='*50}\")\n",
    "        print(f\"   Posizione: {comp['position']}\")\n",
    "        print(f\"   Età: {comp['age']} anni\")\n",
    "        print(f\"   Valore di mercato: {format_currency(comp['market_value'])}\")\n",
    "        print(\"   Fattori di compatibilità:\")\n",
    "        for reason in comp['reasons']:\n",
    "            print(f\"   • {reason}\")\n",
    "\n",
    "# Utilizzo\n",
    "fig1, fig2 = create_advanced_visualization(player, compatibilities)\n",
    "print_compatibility_summary(player, compatibilities)\n",
    "fig1.show()\n",
    "fig2.show()"
   ]
  },
  {
   "cell_type": "code",
   "execution_count": null,
   "metadata": {},
   "outputs": [],
   "source": []
  }
 ],
 "metadata": {
  "kernelspec": {
   "display_name": "Python 3",
   "language": "python",
   "name": "python3"
  },
  "language_info": {
   "codemirror_mode": {
    "name": "ipython",
    "version": 3
   },
   "file_extension": ".py",
   "mimetype": "text/x-python",
   "name": "python",
   "nbconvert_exporter": "python",
   "pygments_lexer": "ipython3",
   "version": "3.13.1"
  }
 },
 "nbformat": 4,
 "nbformat_minor": 2
}

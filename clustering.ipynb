{
 "cells": [
  {
   "cell_type": "code",
   "execution_count": null,
   "metadata": {},
   "outputs": [],
   "source": [
    "#IDEE clustering (e forse classificazione):\n",
    "#Giocatori più adatti a determinata superficie (features punti durante gli anni su quella superficie, vittorie su superficie)\n",
    "\n",
    "#Giocatori più adatti ai quattro Grandi Slam \n",
    "\n",
    "#Giocatori più adatti in base al livello del torneo, in base a chi li gioca (250, 500, 1000, GS)\n",
    "\n",
    "#Giocatori più adatti in base al continente (partite vinte rispetto a quelle giocate in quel continente)\n",
    "\n",
    "#Giocatori più favoriti in base a torneo, continente, superficie\n",
    "\n",
    "\n",
    "\n",
    "\n",
    "\n",
    "\n",
    "\n",
    "#Giocatori più adatti a determinati trimestri dell'anno (features punti durante gli anni su quella superficie, vittorie su superficie)"
   ]
  }
 ],
 "metadata": {
  "kernelspec": {
   "display_name": "Python 3",
   "language": "python",
   "name": "python3"
  },
  "language_info": {
   "name": "python",
   "version": "3.11.8"
  }
 },
 "nbformat": 4,
 "nbformat_minor": 2
}
